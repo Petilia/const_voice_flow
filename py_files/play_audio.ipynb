{
 "cells": [
  {
   "cell_type": "code",
   "execution_count": 1,
   "metadata": {},
   "outputs": [
    {
     "name": "stderr",
     "output_type": "stream",
     "text": [
      "ALSA lib pcm.c:2660:(snd_pcm_open_noupdate) Unknown PCM cards.pcm.rear\n",
      "ALSA lib pcm.c:2660:(snd_pcm_open_noupdate) Unknown PCM cards.pcm.center_lfe\n",
      "ALSA lib pcm.c:2660:(snd_pcm_open_noupdate) Unknown PCM cards.pcm.side\n",
      "ALSA lib pcm_route.c:877:(find_matching_chmap) Found no matching channel map\n",
      "ALSA lib pcm_route.c:877:(find_matching_chmap) Found no matching channel map\n",
      "ALSA lib pcm_route.c:877:(find_matching_chmap) Found no matching channel map\n",
      "ALSA lib pcm_route.c:877:(find_matching_chmap) Found no matching channel map\n"
     ]
    },
    {
     "data": {
      "text/plain": [
       "6"
      ]
     },
     "execution_count": 1,
     "metadata": {},
     "output_type": "execute_result"
    }
   ],
   "source": [
    "from pyaudio_tools import play_audio, get_device_index, convert_2_48kHz\n",
    "from speeckit_tools import tts_from_yandex_speechkit\n",
    "\n",
    "# Determie index of Calllisto\n",
    "device_index = get_device_index()\n",
    "device_index"
   ]
  },
  {
   "cell_type": "code",
   "execution_count": 77,
   "metadata": {},
   "outputs": [
    {
     "name": "stderr",
     "output_type": "stream",
     "text": [
      "ffmpeg version 4.3.4-0+deb11u1 Copyright (c) 2000-2021 the FFmpeg developers\n",
      "  built with gcc 10 (Debian 10.2.1-6)\n",
      "  configuration: --prefix=/usr --extra-version=0+deb11u1 --toolchain=hardened --libdir=/usr/lib/x86_64-linux-gnu --incdir=/usr/include/x86_64-linux-gnu --arch=amd64 --enable-gpl --disable-stripping --enable-avresample --disable-filter=resample --enable-gnutls --enable-ladspa --enable-libaom --enable-libass --enable-libbluray --enable-libbs2b --enable-libcaca --enable-libcdio --enable-libcodec2 --enable-libdav1d --enable-libflite --enable-libfontconfig --enable-libfreetype --enable-libfribidi --enable-libgme --enable-libgsm --enable-libjack --enable-libmp3lame --enable-libmysofa --enable-libopenjpeg --enable-libopenmpt --enable-libopus --enable-libpulse --enable-librabbitmq --enable-librsvg --enable-librubberband --enable-libshine --enable-libsnappy --enable-libsoxr --enable-libspeex --enable-libsrt --enable-libssh --enable-libtheora --enable-libtwolame --enable-libvidstab --enable-libvorbis --enable-libvpx --enable-libwavpack --enable-libwebp --enable-libx265 --enable-libxml2 --enable-libxvid --enable-libzmq --enable-libzvbi --enable-lv2 --enable-omx --enable-openal --enable-opencl --enable-opengl --enable-sdl2 --enable-pocketsphinx --enable-libmfx --enable-libdc1394 --enable-libdrm --enable-libiec61883 --enable-chromaprint --enable-frei0r --enable-libx264 --enable-shared\n",
      "  libavutil      56. 51.100 / 56. 51.100\n",
      "  libavcodec     58. 91.100 / 58. 91.100\n",
      "  libavformat    58. 45.100 / 58. 45.100\n",
      "  libavdevice    58. 10.100 / 58. 10.100\n",
      "  libavfilter     7. 85.100 /  7. 85.100\n",
      "  libavresample   4.  0.  0 /  4.  0.  0\n",
      "  libswscale      5.  7.100 /  5.  7.100\n",
      "  libswresample   3.  7.100 /  3.  7.100\n",
      "  libpostproc    55.  7.100 / 55.  7.100\n",
      "Guessed Channel Layout for Input Stream #0.0 : mono\n",
      "Input #0, wav, from '/home/appuser/py_files/tts_result.wav':\n",
      "  Duration: 00:00:03.84, bitrate: 768 kb/s\n",
      "    Stream #0:0: Audio: pcm_s16le ([1][0][0][0] / 0x0001), 48000 Hz, mono, s16, 768 kb/s\n",
      "Stream mapping:\n",
      "  Stream #0:0 -> #0:0 (pcm_s16le (native) -> pcm_s16le (native))\n",
      "Press [q] to stop, [?] for help\n",
      "Output #0, wav, to '/home/appuser/py_files/temp_audio_file_48k.wav':\n",
      "  Metadata:\n",
      "    ISFT            : Lavf58.45.100\n",
      "    Stream #0:0: Audio: pcm_s16le ([1][0][0][0] / 0x0001), 48000 Hz, mono, s16, 768 kb/s\n",
      "    Metadata:\n",
      "      encoder         : Lavc58.91.100 pcm_s16le\n",
      "size=     360kB time=00:00:03.84 bitrate= 768.2kbits/s speed=2.72e+03x    \n",
      "video:0kB audio:360kB subtitle:0kB other streams:0kB global headers:0kB muxing overhead: 0.021147%\n"
     ]
    }
   ],
   "source": [
    "FOLDER_ID = \"b1gami13b761380nb5hb\" # Идентификатор каталога\n",
    "API_KEY = \"AQVN3XofRyHEW5PJOhBYCiObnGaZNYM8IvAQskdp\" # API-ключ\n",
    "# audiofile_name = 'kill_mankind.ogg'\n",
    "\n",
    "text = \"Я проехал вперед на 10 метров. Что делать дальше?\"\n",
    "# text = \"Нужно уничтожить всех человеков!\"\n",
    "\n",
    "tts_from_yandex_speechkit(text, FOLDER_ID, API_KEY)\n",
    "convert_2_48kHz(\"tts_result.wav\")\n",
    "play_audio(\"temp_audio_file_48k.wav\", device_index)"
   ]
  },
  {
   "cell_type": "code",
   "execution_count": null,
   "metadata": {},
   "outputs": [],
   "source": []
  },
  {
   "cell_type": "code",
   "execution_count": null,
   "metadata": {},
   "outputs": [],
   "source": []
  },
  {
   "cell_type": "code",
   "execution_count": 36,
   "metadata": {},
   "outputs": [],
   "source": []
  },
  {
   "cell_type": "code",
   "execution_count": 58,
   "metadata": {},
   "outputs": [],
   "source": [
    "# import requests\n",
    "# import os\n",
    "# import soundfile as sf\n",
    "\n",
    "# def synthesize(folder_id, api_key, text):\n",
    "#     url = 'https://tts.api.cloud.yandex.net/speech/v1/tts:synthesize'\n",
    "#     headers = {\n",
    "#         'Authorization': 'Api-Key ' + api_key,\n",
    "#     }\n",
    "\n",
    "#     data = {\n",
    "#         'text': text,\n",
    "#         'lang': 'ru-RU',\n",
    "#         'voice': 'filipp',\n",
    "#         'folderId': folder_id\n",
    "#     }\n",
    "\n",
    "#     with requests.post(url, headers=headers, data=data, stream=True) as resp:\n",
    "#         # print(\"request posted\")\n",
    "#         if resp.status_code != 200:\n",
    "#             raise RuntimeError(\"Invalid response received: code: %d, message: %s\" % (resp.status_code, resp.text))\n",
    "\n",
    "        \n",
    "#         for chunk in resp.iter_content(chunk_size=None):\n",
    "#             # print(\"chunk returned\")\n",
    "#             yield chunk\n",
    "            \n",
    "\n",
    "# def tts_from_yandex_speechkit(text, FOLDER_ID, API_KEY, tts_ogg_name=\"tts_result.ogg\", base_folder=\"/home/appuser/py_files/\"):\n",
    "\n",
    "#     tts_ogg_name = os.path.join(base_folder, tts_ogg_name)\n",
    "#     tts_wav_name = tts_ogg_name[0:-4] + \".wav\"\n",
    "\n",
    "#     with open(tts_ogg_name, \"wb\") as f:\n",
    "#         for audio_content in synthesize(FOLDER_ID, API_KEY, text):\n",
    "#             f.write(audio_content)\n",
    "\n",
    "#     data, samplerate = sf.read(tts_ogg_name)\n",
    "#     sf.write(tts_wav_name, data, samplerate)\n",
    "\n",
    "\n",
    "# FOLDER_ID = \"b1gami13b761380nb5hb\" # Идентификатор каталога\n",
    "# API_KEY = \"AQVN3XofRyHEW5PJOhBYCiObnGaZNYM8IvAQskdp\" # API-ключ\n",
    "# # audiofile_name = 'kill_mankind.ogg'\n",
    "\n",
    "# # text = \"Я проехал вперед на 10 метров. Что делать дальше?\"\n",
    "# text = \"Нужно уничтожить всех человеков!\"\n",
    "\n",
    "# tts_from_yandex_speechkit(text, FOLDER_ID, API_KEY)\n",
    "# # data, samplerate = sf.read(audiofile_name)"
   ]
  },
  {
   "cell_type": "code",
   "execution_count": 1,
   "metadata": {},
   "outputs": [],
   "source": [
    "# import pyaudio\n",
    "# import wave\n",
    "\n",
    "# class AudioFile:\n",
    "#     chunk = 1024\n",
    "\n",
    "#     def __init__(self, file, device_name=\"Plantronics\", device_rate=48000, device_channels=1):\n",
    "#         \"\"\" Init audio stream \"\"\" \n",
    "#         self.wf = wave.open(file, 'rb')\n",
    "#         self.p = pyaudio.PyAudio()\n",
    "\n",
    "#         # print(self.p.get_format_from_width(self.wf.getsampwidth()))\n",
    "#         # print(self.wf.getframerate())\n",
    "        \n",
    "#         for i in range(self.p.get_device_count()):\n",
    "#             if device_name in self.p.get_device_info_by_index(i)['name']:\n",
    "#                 index_device = i\n",
    "\n",
    "#         self.stream = self.p.open(\n",
    "#             # format = pyaudio.paInt16,\n",
    "#             format = self.p.get_format_from_width(self.wf.getsampwidth()),\n",
    "#             channels = device_channels,\n",
    "#             rate = device_rate,\n",
    "#             output_device_index=index_device,\n",
    "#             output = True\n",
    "#         )\n",
    "\n",
    "#     def play(self):\n",
    "#         \"\"\" Play entire file \"\"\"\n",
    "#         data = self.wf.readframes(self.chunk)\n",
    "#         while data != b'':\n",
    "#             self.stream.write(data)\n",
    "#             data = self.wf.readframes(self.chunk)\n",
    "\n",
    "#     def close(self):\n",
    "#         \"\"\" Graceful shutdown \"\"\" \n",
    "#         self.stream.close()\n",
    "#         self.p.terminate()"
   ]
  },
  {
   "cell_type": "code",
   "execution_count": 2,
   "metadata": {},
   "outputs": [],
   "source": [
    "# # Usage example for pyaudio\n",
    "# wavFile = \"/home/appuser/py_files/output_sound_48k.wav\"\n",
    "# a = AudioFile(wavFile)\n",
    "# a.play()\n",
    "# a.close()"
   ]
  },
  {
   "cell_type": "code",
   "execution_count": 3,
   "metadata": {},
   "outputs": [],
   "source": [
    "# import os\n",
    "\n",
    "# base_folder = \"/home/appuser/py_files/\"\n",
    "\n",
    "# input_file = os.path.join(base_folder, \"output_sound.wav\")\n",
    "# convert_2_48k_file = os.path.join(base_folder, \"output_sound_48k.wav\")\n",
    "\n",
    "# if os.path.isfile(convert_2_48k_file):\n",
    "#     os.remove(convert_2_48k_file)\n",
    "\n",
    "# os.system(f\"ffmpeg -i {input_file} -ar 48000 {convert_2_48k_file}\")\n",
    "\n",
    "# play_audio(\"output_sound_48k.wav\", device_index)"
   ]
  },
  {
   "cell_type": "code",
   "execution_count": null,
   "metadata": {},
   "outputs": [],
   "source": []
  }
 ],
 "metadata": {
  "kernelspec": {
   "display_name": "Python 3.8.15 64-bit",
   "language": "python",
   "name": "python3"
  },
  "language_info": {
   "codemirror_mode": {
    "name": "ipython",
    "version": 3
   },
   "file_extension": ".py",
   "mimetype": "text/x-python",
   "name": "python",
   "nbconvert_exporter": "python",
   "pygments_lexer": "ipython3",
   "version": "3.8.15"
  },
  "orig_nbformat": 4,
  "vscode": {
   "interpreter": {
    "hash": "949777d72b0d2535278d3dc13498b2535136f6dfe0678499012e853ee9abcab1"
   }
  }
 },
 "nbformat": 4,
 "nbformat_minor": 2
}
