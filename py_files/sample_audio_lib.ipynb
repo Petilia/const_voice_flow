{
 "cells": [
  {
   "cell_type": "code",
   "execution_count": 1,
   "metadata": {},
   "outputs": [],
   "source": [
    "# !pip install pyaudio"
   ]
  },
  {
   "cell_type": "code",
   "execution_count": 2,
   "metadata": {},
   "outputs": [
    {
     "name": "stdout",
     "output_type": "stream",
     "text": [
      "0 HDA Intel PCH: ALC887-VD Analog (hw:0,0)\n",
      "1 HDA Intel PCH: ALC887-VD Alt Analog (hw:0,2)\n",
      "2 HDA Intel PCH: HDMI 0 (hw:0,3)\n",
      "3 HDA Intel PCH: HDMI 1 (hw:0,7)\n",
      "4 HDA Intel PCH: HDMI 2 (hw:0,8)\n",
      "5 HDA NVidia: HDMI 0 (hw:1,3)\n",
      "6 HDA NVidia: HDMI 1 (hw:1,7)\n",
      "7 HDA NVidia: HDMI 2 (hw:1,8)\n",
      "8 HDA NVidia: HDMI 3 (hw:1,9)\n",
      "9 HDA NVidia: HDMI 4 (hw:1,10)\n",
      "10 HDA NVidia: HDMI 5 (hw:1,11)\n",
      "11 HDA NVidia: HDMI 6 (hw:1,12)\n",
      "12 Plantronics Calisto 5200: USB Audio (hw:2,0)\n",
      "13 sysdefault\n",
      "14 front\n",
      "15 surround40\n",
      "16 surround51\n",
      "17 surround71\n",
      "18 hdmi\n",
      "19 default\n",
      "20 dmix\n"
     ]
    },
    {
     "name": "stderr",
     "output_type": "stream",
     "text": [
      "ALSA lib pcm.c:2660:(snd_pcm_open_noupdate) Unknown PCM cards.pcm.rear\n",
      "ALSA lib pcm.c:2660:(snd_pcm_open_noupdate) Unknown PCM cards.pcm.center_lfe\n",
      "ALSA lib pcm.c:2660:(snd_pcm_open_noupdate) Unknown PCM cards.pcm.side\n",
      "ALSA lib pcm_route.c:877:(find_matching_chmap) Found no matching channel map\n",
      "ALSA lib pcm_route.c:877:(find_matching_chmap) Found no matching channel map\n",
      "ALSA lib pcm_route.c:877:(find_matching_chmap) Found no matching channel map\n",
      "ALSA lib pcm_route.c:877:(find_matching_chmap) Found no matching channel map\n"
     ]
    }
   ],
   "source": [
    "import pyaudio\n",
    "p = pyaudio.PyAudio()\n",
    "for i in range(p.get_device_count()):\n",
    "    print(i, p.get_device_info_by_index(i)['name'])\n",
    "    # print(i, p.get_device_info_by_index(i))"
   ]
  },
  {
   "cell_type": "code",
   "execution_count": 3,
   "metadata": {},
   "outputs": [
    {
     "name": "stdout",
     "output_type": "stream",
     "text": [
      "12 {'index': 12, 'structVersion': 2, 'name': 'Plantronics Calisto 5200: USB Audio (hw:2,0)', 'hostApi': 0, 'maxInputChannels': 1, 'maxOutputChannels': 2, 'defaultLowInputLatency': 0.0239375, 'defaultLowOutputLatency': 0.007979166666666667, 'defaultHighInputLatency': 0.096, 'defaultHighOutputLatency': 0.032, 'defaultSampleRate': 48000.0}\n",
      "12\n"
     ]
    }
   ],
   "source": [
    "\"Determine index of Micro - Calisto\"\n",
    "\n",
    "for i in range(p.get_device_count()):\n",
    "    if \"Plantronics\" in p.get_device_info_by_index(i)['name']:\n",
    "        index_device = i\n",
    "        print(i, p.get_device_info_by_index(i))\n",
    "        break\n",
    "\n",
    "print(index_device)"
   ]
  },
  {
   "cell_type": "code",
   "execution_count": 4,
   "metadata": {},
   "outputs": [],
   "source": [
    "import pyaudio\n",
    "import wave\n",
    "\n",
    "chunk = 1024 # Запись кусками по 1024 сэмпла\n",
    "sample_format = pyaudio.paInt16 # 16 бит на выборку\n",
    "channels = 1\n",
    "rate = 16000 # Запись со скоростью 44100 выборок(samples) в секунду\n",
    "seconds = 3\n",
    "filename = \"output_sound.wav\"\n",
    "p = pyaudio.PyAudio() # Создать интерфейс для PortAudio\n",
    "\n",
    "stream = p.open(format=sample_format,\n",
    "            channels=channels,\n",
    "            rate=rate,\n",
    "            frames_per_buffer=chunk,\n",
    "            input_device_index=index_device, # индекс устройства с которого будет идти запись звука \n",
    "            input=True)"
   ]
  },
  {
   "cell_type": "code",
   "execution_count": 5,
   "metadata": {},
   "outputs": [],
   "source": [
    "frames = [] "
   ]
  },
  {
   "cell_type": "code",
   "execution_count": 6,
   "metadata": {},
   "outputs": [],
   "source": [
    "for i in range(0, int(rate / chunk * seconds)):\n",
    "    # print(i)\n",
    "    data = stream.read(chunk, exception_on_overflow = False)\n",
    "    frames.append(data)"
   ]
  },
  {
   "cell_type": "code",
   "execution_count": 7,
   "metadata": {},
   "outputs": [],
   "source": [
    "stream.stop_stream()\n",
    "stream.close()\n",
    "p.terminate()"
   ]
  },
  {
   "cell_type": "code",
   "execution_count": 8,
   "metadata": {},
   "outputs": [],
   "source": [
    "wf = wave.open(filename, 'wb')\n",
    "wf.setnchannels(channels)\n",
    "wf.setsampwidth(p.get_sample_size(sample_format))\n",
    "wf.setframerate(rate)\n",
    "wf.writeframes(b''.join(frames))\n",
    "wf.close()"
   ]
  },
  {
   "cell_type": "code",
   "execution_count": 33,
   "metadata": {},
   "outputs": [],
   "source": [
    "filename = \"output_sound.wav\"\n",
    "\n",
    "def listen_n_seconds(filename, input_device_index=11, chunk=1024, \n",
    "                            sample_format=pyaudio.paInt16, channels=1, \n",
    "                            rate=16000, seconds=3):\n",
    "\n",
    "    p = pyaudio.PyAudio() # Создать интерфейс для PortAudio\n",
    "    \n",
    "    stream = p.open(format=sample_format,\n",
    "            channels=channels,\n",
    "            rate=rate,\n",
    "            frames_per_buffer=chunk,\n",
    "            input_device_index=input_device_index, # индекс устройства с которого будет идти запись звука \n",
    "            input=True)\n",
    "\n",
    "    frames = [] \n",
    "\n",
    "    for i in range(0, int(rate / chunk * seconds)):\n",
    "        data = stream.read(chunk, exception_on_overflow = False)\n",
    "        frames.append(data)\n",
    "\n",
    "    stream.stop_stream()\n",
    "    stream.close()\n",
    "    p.terminate()\n",
    "\n",
    "    wf = wave.open(filename, 'wb')\n",
    "    wf.setnchannels(channels)\n",
    "    wf.setsampwidth(p.get_sample_size(sample_format))\n",
    "    wf.setframerate(rate)\n",
    "    wf.writeframes(b''.join(frames))\n",
    "    wf.close()"
   ]
  },
  {
   "cell_type": "code",
   "execution_count": 34,
   "metadata": {},
   "outputs": [],
   "source": [
    "listen_n_seconds(\"output_sound1.wav\", input_device_index=index_device)"
   ]
  },
  {
   "cell_type": "code",
   "execution_count": 35,
   "metadata": {},
   "outputs": [],
   "source": [
    "import soundfile as sf"
   ]
  },
  {
   "cell_type": "code",
   "execution_count": 36,
   "metadata": {},
   "outputs": [],
   "source": [
    "import urllib\n",
    "import json\n",
    "\n",
    "def asr_from_yandex_speeckit(audiofile_name, FOLDER_ID, API_KEY, language=\"ru-RU\"):\n",
    "    \n",
    "    with open(audiofile_name, \"rb\") as f:\n",
    "        data = f.read()\n",
    "\n",
    "    params = \"&\".join([\n",
    "        \"topic=general\",\n",
    "        \"folderId=%s\" % FOLDER_ID,\n",
    "        \"lang=%s\" % language\n",
    "    ])\n",
    "    \n",
    "    url = urllib.request.Request(\"https://stt.api.cloud.yandex.net/speech/v1/stt:recognize?%s\" % params, data=data)\n",
    "    url.add_header(\"Authorization\", \"Api-Key %s\" % API_KEY) # если API-ключ\n",
    "    # url.add_header(\"Authorization\", \"Bearer %s\" % IAM_TOKEN) # если IAM токен\n",
    "\n",
    "    responseData = urllib.request.urlopen(url).read().decode('UTF-8')\n",
    "    decodedData = json.loads(responseData)\n",
    "\n",
    "    if decodedData.get(\"error_code\") is None:\n",
    "        asr_result = decodedData.get(\"result\")\n",
    "    else:\n",
    "        asr_result = 'Nothing recognized'\n",
    "    \n",
    "    return asr_result"
   ]
  },
  {
   "cell_type": "code",
   "execution_count": 37,
   "metadata": {},
   "outputs": [
    {
     "data": {
      "text/plain": [
       "'1234-56-78'"
      ]
     },
     "execution_count": 37,
     "metadata": {},
     "output_type": "execute_result"
    }
   ],
   "source": [
    "# from speeckit_tools import asr_from_yandex_speeckit\n",
    "\n",
    "FOLDER_ID = \"b1gami13b761380nb5hb\" # Идентификатор каталога\n",
    "API_KEY = \"AQVN3XofRyHEW5PJOhBYCiObnGaZNYM8IvAQskdp\" # API-ключ\n",
    "\n",
    "wav_name = 'wav_file.ogg'\n",
    "ogg_name = \"ogg_file.ogg\"\n",
    "\n",
    "listen_n_seconds(wav_name, input_device_index=index_device)\n",
    "\n",
    "data, samplerate = sf.read(wav_name)\n",
    "sf.write(ogg_name, data, samplerate)\n",
    "\n",
    "asr_result = asr_from_yandex_speeckit(ogg_name, FOLDER_ID, API_KEY)\n",
    "\n",
    "asr_result"
   ]
  },
  {
   "cell_type": "code",
   "execution_count": 24,
   "metadata": {},
   "outputs": [
    {
     "name": "stdout",
     "output_type": "stream",
     "text": [
      "Добросердечный 1\n",
      "Товарный вагон 17\n",
      "Что там еще было\n",
      "Какую нибудь\n",
      "Бостон динамикс\n",
      "\n"
     ]
    }
   ],
   "source": [
    "counter = 0\n",
    "ogg_name = \"ogg_file.ogg\"\n",
    "wav_name = \"wav_file.wav\"\n",
    "\n",
    "while counter < 6:\n",
    "    ###listen micro\n",
    "    listen_n_seconds(wav_name, input_device_index=index_device)\n",
    "    data, samplerate = sf.read(wav_name)\n",
    "    sf.write(ogg_name, data, samplerate)\n",
    "    asr_result = asr_from_yandex_speeckit(ogg_name, FOLDER_ID, API_KEY)\n",
    "    print(asr_result)\n",
    "    \n",
    "    counter +=1"
   ]
  },
  {
   "cell_type": "code",
   "execution_count": null,
   "metadata": {},
   "outputs": [],
   "source": []
  },
  {
   "cell_type": "code",
   "execution_count": null,
   "metadata": {},
   "outputs": [],
   "source": []
  }
 ],
 "metadata": {
  "kernelspec": {
   "display_name": "Python 3.8.15 64-bit",
   "language": "python",
   "name": "python3"
  },
  "language_info": {
   "codemirror_mode": {
    "name": "ipython",
    "version": 3
   },
   "file_extension": ".py",
   "mimetype": "text/x-python",
   "name": "python",
   "nbconvert_exporter": "python",
   "pygments_lexer": "ipython3",
   "version": "3.8.15"
  },
  "orig_nbformat": 4,
  "vscode": {
   "interpreter": {
    "hash": "949777d72b0d2535278d3dc13498b2535136f6dfe0678499012e853ee9abcab1"
   }
  }
 },
 "nbformat": 4,
 "nbformat_minor": 2
}
