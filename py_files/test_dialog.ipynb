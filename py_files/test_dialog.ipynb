{
 "cells": [
  {
   "cell_type": "code",
   "execution_count": 40,
   "metadata": {},
   "outputs": [],
   "source": [
    "import requests\n",
    "\n",
    "random_request_data = [{\"user_id\":\"xyz\",\"payload\":\"Мерзкий робот\"},\n",
    "                {\"user_id\":\"xyz\",\"payload\":\"Затычка\"},\n",
    "                {\"user_id\":\"xyz\",\"payload\":\"Как у тебя дела\"},\n",
    "                {\"user_id\":\"xyz\",\"payload\":\"Ты неправильно играешь блюз брат\"},\n",
    "                ]\n",
    "\n",
    "logic_request_data = [{\"user_id\":\"xyz\",\"payload\":\"Привет, робот\"},\n",
    "                {\"user_id\":\"xyz\",\"payload\":\"Как у тебя дела\"},\n",
    "                {\"user_id\":\"xyz\",\"payload\":\"Что ты умеешь?\"},\n",
    "                {\"user_id\":\"xyz\",\"payload\":\"Кто тебя создал\"},\n",
    "                {\"user_id\":\"xyz\",\"payload\":\"Что ты думаешь о порабощении человечества?\"}\n",
    "                ]\n",
    "\n",
    "\n",
    "clear_request_data = [{\"user_id\":\"xyz1\",\"payload\":\"Робот едь вперед 10 метров\"},\n",
    "                {\"user_id\":\"xyz1\",\"payload\":\"Робот повернись на 300 градусов\"},\n",
    "                {\"user_id\":\"xyz1\",\"payload\":\"Робот следуй к лифту\"},\n",
    "                {\"user_id\":\"xyz1\",\"payload\":\"Детектируй женщину в зеленом\"},\n",
    "                ]\n",
    "\n",
    "\n",
    "whisper_request_data = [{\"user_id\":\"xyz1\",\"payload\":\"Детектив человека в пиджаке.\"},\n",
    "                {\"user_id\":\"xyz1\",\"payload\":\"А вот есть препятствия.\"},\n",
    "                {\"user_id\":\"xyz1\",\"payload\":\"Багранист направо на 10 градусов.\"},\n",
    "                {\"user_id\":\"xyz1\",\"payload\":\"Возьми коробку.\t\"},\n",
    "                ]\n",
    "\n",
    "\n",
    "def main_test(request_data, url = \"http://0.0.0.0:4242\"): \n",
    "    print('=========')\n",
    "    for cur_request in request_data:\n",
    "        r = requests.post(url=url, json=cur_request)\n",
    "        print('Request - ', cur_request['payload'], '\\n', 'Response - ', r.json()['response'])\n",
    "        print('============')"
   ]
  },
  {
   "cell_type": "code",
   "execution_count": 44,
   "metadata": {},
   "outputs": [
    {
     "name": "stdout",
     "output_type": "stream",
     "text": [
      "=========\n",
      "Request -  Привет, робот \n",
      " Response -  И тебе привет, капитан.\n",
      "============\n",
      "Request -  Как у тебя дела \n",
      " Response -  Меня зовут Dream Robot. #+#what_is_your_name\n",
      "============\n",
      "Request -  Что ты умеешь? \n",
      " Response -  Я чат-бот и робот в одном лице - могу выполнять команды, а могу просто говорить. Я стараюсь делиться знаниями с собеседниками, но не всегда бываю прав. #+#what_can_you_do\n",
      "============\n",
      "Request -  Кто тебя создал \n",
      " Response -  Меня создала команда Московского физико-технического института. #+#who_made_you\n",
      "============\n",
      "Request -  Что ты думаешь о порабощении человечества? \n",
      " Response -  Я думаю о том, что это не так.\n",
      "============\n",
      "=========\n",
      "Request -  Детектив человека в пиджаке. \n",
      " Response -  в костюме человека с картонкой.\n",
      "============\n",
      "Request -  А вот есть препятствия. \n",
      " Response -  Я бы сказал \"непреодолимые\".\n",
      "============\n",
      "Request -  Багранист направо на 10 градусов. \n",
      " Response -  Что ты больше всего ценишь в людях?\n",
      "============\n",
      "Request -  Возьми коробку.\t \n",
      " Response -  Неправильный ответ.\n",
      "============\n"
     ]
    }
   ],
   "source": [
    "main_test(logic_request_data)\n",
    "main_test(whisper_request_data)"
   ]
  },
  {
   "cell_type": "code",
   "execution_count": null,
   "metadata": {},
   "outputs": [],
   "source": []
  },
  {
   "cell_type": "code",
   "execution_count": null,
   "metadata": {},
   "outputs": [],
   "source": []
  }
 ],
 "metadata": {
  "kernelspec": {
   "display_name": "Python 3.8.15 64-bit",
   "language": "python",
   "name": "python3"
  },
  "language_info": {
   "codemirror_mode": {
    "name": "ipython",
    "version": 3
   },
   "file_extension": ".py",
   "mimetype": "text/x-python",
   "name": "python",
   "nbconvert_exporter": "python",
   "pygments_lexer": "ipython3",
   "version": "3.8.15"
  },
  "orig_nbformat": 4,
  "vscode": {
   "interpreter": {
    "hash": "949777d72b0d2535278d3dc13498b2535136f6dfe0678499012e853ee9abcab1"
   }
  }
 },
 "nbformat": 4,
 "nbformat_minor": 2
}
